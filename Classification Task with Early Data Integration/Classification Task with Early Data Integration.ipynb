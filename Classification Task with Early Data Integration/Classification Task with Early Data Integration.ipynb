{
 "cells": [
  {
   "cell_type": "markdown",
   "metadata": {},
   "source": [
    "# Classification Task with Early Data Integration"
   ]
  },
  {
   "cell_type": "code",
   "execution_count": null,
   "metadata": {},
   "outputs": [],
   "source": [
    "# Import libraries for feature scaling, model selection, SVC, kNN and comparison metrics\n",
    "import pandas as pd\n",
    "import matplotlib.pyplot as plt\n",
    "from sklearn.model_selection import train_test_split, GridSearchCV\n",
    "from sklearn.preprocessing import LabelEncoder, StandardScaler\n",
    "from sklearn.svm import SVC\n",
    "from sklearn.neighbors import KNeighborsClassifier\n",
    "from sklearn.metrics import balanced_accuracy_score, plot_roc_curve"
   ]
  },
  {
   "cell_type": "code",
   "execution_count": null,
   "metadata": {},
   "outputs": [],
   "source": [
    "# Import flux data\n",
    "metabolic_data = pd.read_csv('fluxes.csv', encoding='utf-8')\n",
    "# Disregard the null fluxes\n",
    "metabolic_data = metabolic_data.loc[:, (metabolic_data.abs() >= 1e-7).any(axis=0)]\n",
    "# Import gene expression data\n",
    "gene_expression_data = pd.read_csv('gene_expression_data.csv', encoding='utf-8')"
   ]
  },
  {
   "cell_type": "code",
   "execution_count": null,
   "metadata": {},
   "outputs": [],
   "source": [
    "# Concatenate the gene expression and flux data matrices\n",
    "dataset = pd.concat([metabolic_data, gene_expression_data], axis=1)\n",
    "# Define the X and Y variables\n",
    "X = dataset[dataset.columns[:-1]]\n",
    "Y = dataset[dataset.columns[-1]]\n",
    "# Transform all labels to numerical normalized labels\n",
    "Y = LabelEncoder().fit_transform(Y)"
   ]
  },
  {
   "cell_type": "code",
   "execution_count": null,
   "metadata": {},
   "outputs": [],
   "source": [
    "# Specify the proportion of data to be used as the test set\n",
    "percent_test = 0.3\n",
    "# Ensure reproducibility of the results by setting the random_state parameter\n",
    "rndm_state = 0\n",
    "X_train, X_test, Y_train, Y_test = train_test_split(X, Y, test_size=percent_test, shuffle=True, random_state=rndm_state)"
   ]
  },
  {
   "cell_type": "code",
   "execution_count": null,
   "metadata": {},
   "outputs": [],
   "source": [
    "# Perform feature scaling to normalize the training data\n",
    "stdscaler = StandardScaler()\n",
    "X_train = stdscaler.fit_transform(X_train)\n",
    "# Normalize the test set with the same parametric values as the training set\n",
    "X_test = stdscaler.transform(X_test)"
   ]
  },
  {
   "cell_type": "code",
   "execution_count": null,
   "metadata": {},
   "outputs": [],
   "source": [
    "# Perform parametric tuning for SVC by creating a dictionary containing parameters for kernels and C\n",
    "svc_params = {\n",
    "    'kernel': ['poly', 'rbf', 'sigmoid'],\n",
    "    'C':[1, 5, 10]\n",
    "    }"
   ]
  },
  {
   "cell_type": "code",
   "execution_count": null,
   "metadata": {},
   "outputs": [],
   "source": [
    "# Create a GridSearchCV object and fit it to the training data\n",
    "grd_search_scv = GridSearchCV(estimator=SVC(), param_grid=svc_params, cv=10)\n",
    "grd_search_scv.fit(X_train, Y_train)"
   ]
  },
  {
   "cell_type": "code",
   "execution_count": null,
   "metadata": {},
   "outputs": [],
   "source": [
    "# Find the optimal parameters and use them to fit the model\n",
    "svc = SVC(C=grd_search_scv.best_params_['C'], kernel=grd_search_scv.best_params_['kernel'])\n",
    "svc.fit(X_train, Y_train)"
   ]
  },
  {
   "cell_type": "code",
   "execution_count": null,
   "metadata": {},
   "outputs": [],
   "source": [
    "# Perform parametric tuning for kNN by creating a dictionary containing parameters for n_neighbors and p\n",
    "knn_params = {\n",
    "    'n_neighbors': [5, 7, 9],\n",
    "    'p':[1, 2]\n",
    "    }\n",
    "# Create a GridSearchCV object and fit it to the training data\n",
    "grd_search_knn = GridSearchCV(estimator=KNeighborsClassifier(), param_grid=knn_params, cv=10)\n",
    "grd_search_knn.fit(X_train, Y_train)\n",
    "# Find the optimal parameters and use them to fit the model\n",
    "kNN = KNeighborsClassifier(n_neighbors=grd_search_knn.best_params_['n_neighbors'], p=grd_search_knn.best_params_['p'])\n",
    "kNN.fit(X_train, Y_train)"
   ]
  },
  {
   "cell_type": "code",
   "execution_count": null,
   "metadata": {},
   "outputs": [],
   "source": [
    "# Compute balanced accuracy score for SVC\n",
    "Y_pred = svc.predict(X_test)\n",
    "svc_acc = balanced_accuracy_score(Y_test, Y_pred)\n",
    "# Compute balanced accuracy score for kNN\n",
    "Y_pred = kNN.predict(X_test)\n",
    "knn_acc = balanced_accuracy_score(Y_test, Y_pred)\n",
    "# Print balanced accuracy scores for both methods\n",
    "print('SVC accuracy: {}, kNN accuracy: {}'.format(svc_acc, knn_acc))\n",
    "\n",
    "# Get the current axes, creating one if necessary\n",
    "ax = plt.gca()\n",
    "# Plot receiver operating characteristic (ROC) curves for SVC and kNN and display them in the same figure\n",
    "svc_roc = plot_roc_curve(svc, X_test, Y_test, ax=ax)\n",
    "knn_roc = plot_roc_curve(kNN, X_test, Y_test, ax=ax)\n",
    "knn_roc.figure_.suptitle('ROC curves')\n",
    "plt.show()"
   ]
  }
 ],
 "metadata": {
  "kernelspec": {
   "display_name": "Python 3",
   "language": "python",
   "name": "python3"
  },
  "language_info": {
   "codemirror_mode": {
    "name": "ipython",
    "version": 3
   },
   "file_extension": ".py",
   "mimetype": "text/x-python",
   "name": "python",
   "nbconvert_exporter": "python",
   "pygments_lexer": "ipython3",
   "version": "3.8.5"
  }
 },
 "nbformat": 4,
 "nbformat_minor": 4
}
